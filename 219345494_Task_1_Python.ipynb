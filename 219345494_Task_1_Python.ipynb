{
 "cells": [
  {
   "cell_type": "markdown",
   "metadata": {
    "colab_type": "text",
    "id": "5bg0KSxtt-On"
   },
   "source": [
    "**1.1:** Create a list of randomly selected 200 integers between 0 and 1000 and print in ascending order all the odd numbers that are divisible by 7."
   ]
  },
  {
   "cell_type": "code",
   "execution_count": 1,
   "metadata": {
    "scrolled": true
   },
   "outputs": [
    {
     "name": "stdout",
     "output_type": "stream",
     "text": [
      "[5, 26, 31, 32, 41, 47, 49, 50, 78, 82, 85, 90, 102, 108, 108, 110, 117, 119, 119, 129, 129, 147, 151, 160, 167, 178, 186, 187, 204, 204, 204, 205, 205, 211, 221, 223, 231, 233, 243, 244, 248, 252, 253, 259, 260, 261, 269, 273, 276, 277, 278, 283, 292, 293, 294, 307, 308, 308, 315, 317, 325, 330, 335, 335, 347, 355, 359, 364, 365, 371, 375, 376, 377, 378, 379, 382, 392, 418, 419, 449, 464, 470, 471, 475, 478, 479, 482, 490, 498, 500, 507, 510, 518, 522, 523, 526, 529, 531, 533, 534, 542, 552, 564, 578, 579, 580, 580, 590, 591, 595, 600, 607, 609, 614, 619, 623, 628, 629, 634, 638, 646, 650, 651, 658, 663, 665, 667, 672, 676, 677, 691, 691, 692, 694, 697, 708, 714, 717, 720, 722, 724, 750, 751, 753, 753, 756, 759, 762, 763, 767, 772, 778, 778, 779, 780, 784, 787, 796, 799, 804, 807, 813, 813, 813, 822, 822, 825, 833, 839, 839, 844, 846, 848, 849, 855, 856, 860, 860, 861, 865, 871, 901, 908, 911, 913, 914, 930, 931, 941, 948, 948, 949, 958, 961, 963, 966, 969, 970, 988, 992]\n",
      "[ 49 119 119 147 231 259 273 315 371 595 609 623 651 665 763 833 861 931]\n"
     ]
    }
   ],
   "source": [
    "import random\n",
    "import numpy as np \n",
    "randomlist = []\n",
    "for i in range(200):\n",
    "    n = random.randint(0, 1000)\n",
    "    randomlist.append(n)\n",
    "\n",
    "randomlist.sort()\n",
    "print(randomlist)\n",
    "rlist=np.asarray(randomlist)\n",
    "idxs=np.where(rlist%7==0)\n",
    "vals=rlist[idxs]\n",
    "print(vals[vals%2==1])"
   ]
  },
  {
   "cell_type": "raw",
   "metadata": {},
   "source": [
    "At line 1-2, we import the libraries required for our program. At line 3 an empty python list is created in which random numbers will be stored. for-loop runs 200 times and each time it generates a random number which is appended into the randomlist list. At line 8, list of 200 random numbers is sorted in ascending order. At line 9, we print the values in random list which are in sorted order. Line 10 converts the list of random numbers into numpy array. Line 11, gets the indices of all values which are divisible by 7. Line 12 reterieves those values from values divisible by 7 into variable vals. Finally line 13 prints all those values which are divisible by 7 and are odd."
   ]
  },
  {
   "cell_type": "markdown",
   "metadata": {
    "colab_type": "text",
    "id": "wnfX2NjuuZ1s"
   },
   "source": [
    "**1.2:** Write a python code to calculate Body Mass Index (the ratio of weight in kilograms (kg) divided by height in metres-squared (m2)). Write the initial input commands to enter \"weight\" and \"height\", round Body Mass Index to 1 decimal place and print."
   ]
  },
  {
   "cell_type": "code",
   "execution_count": 2,
   "metadata": {},
   "outputs": [
    {
     "name": "stdout",
     "output_type": "stream",
     "text": [
      "Enter weight (in kg):78\n",
      "Enter height(in meters):1.5\n",
      "body mass index is: 34.7\n"
     ]
    }
   ],
   "source": [
    "weight=float(input(\"Enter weight (in kg):\"))\n",
    "height=float(input(\"Enter height(in meters):\"))\n",
    "bmi=weight/(height*height)\n",
    "bmi=np.round(bmi,1)\n",
    "print(\"body mass index is:\",bmi)"
   ]
  },
  {
   "cell_type": "raw",
   "metadata": {},
   "source": [
    "Line 1 reads the value of weight which is read as string and then converted into float and assigned to variable weight. Similarly line 2 reads the height in meters, converts into into float and assigns it to a variable height. line 3 calculates the bmi which is the converted to 1 decimal place on line 4 and finally the computed bmi is printed on line 5."
   ]
  },
  {
   "cell_type": "markdown",
   "metadata": {
    "colab_type": "text",
    "id": "PQvEgsBEu603"
   },
   "source": [
    "**1.3:** Equilateral triangle all sides are equal. Scalene triangle none of the sides are equal. Isosceles triangle atleast two sides are equal.\n",
    "Set the vertices A, B and C as below. "
   ]
  },
  {
   "cell_type": "raw",
   "metadata": {},
   "source": [
    "A = np.random.randint(low=2, high=100, size=2)\n",
    "B = np.random.randint(low=2, high=100, size=2)\n",
    "C = np.random.randint(low=2, high=100, size=2)\n",
    "print(A,B,C)"
   ]
  },
  {
   "cell_type": "markdown",
   "metadata": {},
   "source": [
    "**i):** Write a python program to calculate and print the sides (use 2 decimal) a = |CB|, b = |AC| and c = |AB| and check if the triangle is equilateral/isosceles/scalene. \n",
    "\n",
    "**ii):** Calculate and print the area of the triangle by the following formula: \n",
    "$s = (a+b+c)/2;$  \n",
    "Area = $\\sqrt(s(s-a)*(s-b)*(s-c))$."
   ]
  },
  {
   "cell_type": "code",
   "execution_count": 3,
   "metadata": {},
   "outputs": [
    {
     "name": "stdout",
     "output_type": "stream",
     "text": [
      "[39 85] [76 78] [80 35]\n",
      "The triangle is Scalene\n",
      "Area of Triangle is: 776.6970129979908\n"
     ]
    }
   ],
   "source": [
    "A = np.random.randint(low=2, high=100, size=2)\n",
    "B = np.random.randint(low=2, high=100, size=2)\n",
    "C = np.random.randint(low=2, high=100, size=2)\n",
    "print(A, B, C)\n",
    "\n",
    "a = np.sqrt(np.square(A[0] - B[0]) + np.square(A[1] - B[1]))\n",
    "b = np.sqrt(np.square(B[0] - B[0]) + np.square(B[1] - C[1]))\n",
    "c = np.sqrt(np.square(C[0] - A[0]) + np.square(C[1] - A[1]))\n",
    "if (a == b and b == c):          print(\"The triangle is Equilateral\")\n",
    "if (a == b or b == c or c == a):   print(\"The triangle is Isosceles\")\n",
    "if (a != b and b != c and c != a): print(\"The triangle is Scalene\")\n",
    "\n",
    "s = (a + b + c) / 2\n",
    "s_a, s_b, s_c = np.abs(s - a), np.abs(s - b), np.abs(s - c)\n",
    "if (s_a == 0): s_a = 1\n",
    "if (s_b == 0): s_b = 1\n",
    "if (s_c == 0): s_c = 1\n",
    "area = np.sqrt(s * (s_a) * (s_b) * (s_c))\n",
    "print(\"Area of Triangle is:\", area)"
   ]
  },
  {
   "cell_type": "raw",
   "metadata": {},
   "source": [
    "Lines 1-3 randomly selects the three coordinates (vertices) of a triangle. Line 4 prints the values of vertices. Using distance formula, lines 6-8 calculates the length of sides of the triangle. Lines 9-11 test the type of triangle and prints it. Finally lines 13-19 calculates the area of the triangle and prints it."
   ]
  },
  {
   "cell_type": "markdown",
   "metadata": {
    "colab_type": "text",
    "id": "NzY39Ah8x5vm"
   },
   "source": [
    "**1.4:** In a Dataframe create an array in range(10-3000) in one column and a true or false column adjacent to this column which would be true if the number is a palindrome else false. Also print the total number of true values in this column. \n",
    "\n",
    "(A palindromic number is a number that remains the same when its digits are reversed; e.g. 5360635 or 7997)."
   ]
  },
  {
   "cell_type": "code",
   "execution_count": 4,
   "metadata": {
    "colab": {},
    "colab_type": "code",
    "id": "jmDS4rkiyzBj"
   },
   "outputs": [
    {
     "name": "stdout",
     "output_type": "stream",
     "text": [
      "(2990, 2)\n",
      "total plaindromes are: 119\n",
      "[  11   22   33   44   55   66   77   88   99  101  111  121  131  141\n",
      "  151  161  171  181  191  202  212  222  232  242  252  262  272  282\n",
      "  292  303  313  323  333  343  353  363  373  383  393  404  414  424\n",
      "  434  444  454  464  474  484  494  505  515  525  535  545  555  565\n",
      "  575  585  595  606  616  626  636  646  656  666  676  686  696  707\n",
      "  717  727  737  747  757  767  777  787  797  808  818  828  838  848\n",
      "  858  868  878  888  898  909  919  929  939  949  959  969  979  989\n",
      "  999 1001 1111 1221 1331 1441 1551 1661 1771 1881 1991 2002 2112 2222\n",
      " 2332 2442 2552 2662 2772 2882 2992]\n"
     ]
    }
   ],
   "source": [
    "import numpy as np\n",
    "import pandas as pd\n",
    "plaindromes=[]\n",
    "arr=np.asarray(range(10,3000))\n",
    "for i in arr:\n",
    "    num = [int(x) for x in str(i)]\n",
    "    num_rev=num.copy()\n",
    "    num.reverse()\n",
    "    if(num==num_rev): plaindromes.append(True)\n",
    "    else: plaindromes.append(False)\n",
    "data=np.vstack([arr,plaindromes])\n",
    "data=data.transpose()\n",
    "df=pd.DataFrame(data=data,columns=[\"Values\",\"Plaindromes\"])\n",
    "print(df.shape)\n",
    "ps=df.loc[:,'Plaindromes']\n",
    "count=(ps==True).sum()\n",
    "print(\"total plaindromes are:\",count)\n",
    "    \n",
    "idxs=df.values[:,1]\n",
    "vals=df.values[:,0]\n",
    "print(vals[np.where(idxs==1)])"
   ]
  },
  {
   "cell_type": "raw",
   "metadata": {},
   "source": [
    "at lines 1-2, we import the required libraries. Line 3 creates an empty array to store the plaindromes. At line 4, a list of values ranging from 10-3000 are generatred. In for loop from line 5-10,  first each number is converted to a list and assigned to variable num. At line 7, the number is copied into another variable num_rev using \"copy()\" method to avoid referencing to same value item in memory. Line 8 reverses the number and at line 9, we compare the reversed number list with original number list. If both lists are equal, True value is appended in plaindrome list. on the other hand in case of non-equal, False value is appended in the same list. Line 11 vartically stacks the list of numbers and the status of numbers whether they are plaindrom or not. It makes a two column list where status of each number is given next to in in table. Line 12 transposes the list to bring it to proper order. At line 13, DataFrame is created using the computed values. Line 14 prints the shape of data frame. At line 15 we extract all values of Plaindrome column from dataframe into ps variable. Line 16 counts all the entries where value is True i.e. it is plaindrome. Line 17 prints the count of plaindromes. Lines 19-21 finds the plaindromes in the list and prints them. "
   ]
  }
 ],
 "metadata": {
  "colab": {
   "name": "Week 2 Problem Solving Task.ipynb",
   "provenance": []
  },
  "kernelspec": {
   "display_name": "Python 3",
   "language": "python",
   "name": "python3"
  },
  "language_info": {
   "codemirror_mode": {
    "name": "ipython",
    "version": 3
   },
   "file_extension": ".py",
   "mimetype": "text/x-python",
   "name": "python",
   "nbconvert_exporter": "python",
   "pygments_lexer": "ipython3",
   "version": "3.6.8"
  }
 },
 "nbformat": 4,
 "nbformat_minor": 1
}
