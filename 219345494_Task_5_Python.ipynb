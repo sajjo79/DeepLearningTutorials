{
 "cells": [
  {
   "cell_type": "code",
   "execution_count": 1,
   "metadata": {},
   "outputs": [],
   "source": [
    "from sklearn.datasets import load_breast_cancer\n",
    "from sklearn import svm\n",
    "from sklearn.model_selection import cross_val_score\n",
    "from sklearn.model_selection import ShuffleSplit"
   ]
  },
  {
   "cell_type": "code",
   "execution_count": 2,
   "metadata": {},
   "outputs": [
    {
     "name": "stdout",
     "output_type": "stream",
     "text": [
      "['mean radius' 'mean texture' 'mean perimeter' 'mean area'\n",
      " 'mean smoothness' 'mean compactness' 'mean concavity'\n",
      " 'mean concave points' 'mean symmetry' 'mean fractal dimension'\n",
      " 'radius error' 'texture error' 'perimeter error' 'area error'\n",
      " 'smoothness error' 'compactness error' 'concavity error'\n",
      " 'concave points error' 'symmetry error' 'fractal dimension error'\n",
      " 'worst radius' 'worst texture' 'worst perimeter' 'worst area'\n",
      " 'worst smoothness' 'worst compactness' 'worst concavity'\n",
      " 'worst concave points' 'worst symmetry' 'worst fractal dimension']\n",
      "['malignant' 'benign']\n",
      "(569, 30)\n"
     ]
    }
   ],
   "source": [
    "combined_data = load_breast_cancer()\n",
    "print(combined_data.feature_names)\n",
    "print(combined_data.target_names)\n",
    "data = combined_data.data\n",
    "target = combined_data.target\n",
    "print(data.shape)"
   ]
  },
  {
   "cell_type": "markdown",
   "metadata": {},
   "source": [
    "### a) cv = 10 (which is by default StratifiedKFold);"
   ]
  },
  {
   "cell_type": "code",
   "execution_count": 3,
   "metadata": {},
   "outputs": [
    {
     "name": "stdout",
     "output_type": "stream",
     "text": [
      "Each fold accuracy (StratifiedKFold) [0.98245614 0.92982456 0.92982456 0.94736842 0.96491228 0.98245614\n",
      " 0.92982456 0.94736842 0.96491228 0.96428571]\n",
      "Mean Accuracy: 0.95 (+/- 0.04)\n"
     ]
    }
   ],
   "source": [
    "clf = svm.SVC(kernel='linear', C=1)\n",
    "scores = cross_val_score(clf, data, target, cv=10)\n",
    "print(\"Each fold accuracy (StratifiedKFold)\",scores)\n",
    "print(\"Mean Accuracy: %0.2f (+/- %0.2f)\" % (scores.mean(), scores.std() * 2))"
   ]
  },
  {
   "cell_type": "raw",
   "metadata": {},
   "source": [
    "Accuracy on 10-fold cross validation is shown. We can observe that cv-1 and cv-6 show the best results and interestingly these are equal. This is because the split is repeating the same data"
   ]
  },
  {
   "cell_type": "markdown",
   "metadata": {},
   "source": [
    "### b) cv = ShuffleSplit(n_splits=10, test_size=0.1, random_state=0)"
   ]
  },
  {
   "cell_type": "code",
   "execution_count": 4,
   "metadata": {},
   "outputs": [
    {
     "name": "stdout",
     "output_type": "stream",
     "text": [
      "Each fold accuracy (ShuffleSplit) [0.96491228 0.94736842 0.96491228 0.98245614 1.         0.96491228\n",
      " 0.96491228 0.94736842 0.98245614 0.92982456]\n",
      "Mean Accuracy: 0.96 (+/- 0.04)\n"
     ]
    }
   ],
   "source": [
    "cv = ShuffleSplit(n_splits=10, test_size=0.1, random_state=0)\n",
    "scores=cross_val_score(clf, data, target, cv=cv)\n",
    "print(\"Each fold accuracy (ShuffleSplit)\", scores)\n",
    "print(\"Mean Accuracy: %0.2f (+/- %0.2f)\" % (scores.mean(), scores.std() * 2))"
   ]
  },
  {
   "cell_type": "raw",
   "metadata": {},
   "source": [
    "The results in shufflesplit are also similar however the splits are shuffled and we can observe 4th split gives the same results as those of 1st split in previous cross validation."
   ]
  }
 ],
 "metadata": {
  "kernelspec": {
   "display_name": "Python 3",
   "language": "python",
   "name": "python3"
  },
  "language_info": {
   "codemirror_mode": {
    "name": "ipython",
    "version": 3
   },
   "file_extension": ".py",
   "mimetype": "text/x-python",
   "name": "python",
   "nbconvert_exporter": "python",
   "pygments_lexer": "ipython3",
   "version": "3.6.8"
  }
 },
 "nbformat": 4,
 "nbformat_minor": 4
}
