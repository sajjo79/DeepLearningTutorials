{
 "cells": [
  {
   "cell_type": "markdown",
   "metadata": {},
   "source": [
    "**Exercise 4.1**\n",
    "\n",
    "i) Generate an array of random integer numbers in range [10,1000] with size 100;\n",
    " \n",
    "ii) Discretize this array into k= 10 bins, such that each bin is of equal width using (delta = xmax - xmin/k);\n",
    "\n",
    "iii) Plot the histogram;\n",
    "\n",
    "iv) Reapet i)-iii) by generating an array of random numbers by normal distribution with (loc=0.0, scale=1.0, size = 100);\n",
    "\n",
    "v) Generate an array of random numbers by lognormal distribution with (mean=2.0, sigma=2.0, size=100) and plot the histogram by setting bins as [0, 1, 2, 5, 10, 20, 30, 40, 50, 60, 70, 80,90, 100]."
   ]
  },
  {
   "cell_type": "markdown",
   "metadata": {},
   "source": [
    "### i) Generate an array of random integer numbers in range [10,1000] with size 100;"
   ]
  },
  {
   "cell_type": "code",
   "execution_count": 1,
   "metadata": {},
   "outputs": [
    {
     "name": "stdout",
     "output_type": "stream",
     "text": [
      "[933, 338, 946, 342, 197, 951, 751, 14, 645, 905, 663, 963, 690, 25, 23, 446, 276, 578, 252, 125, 30, 102, 364, 858, 706, 878, 67, 417, 865, 331, 990, 285, 899, 827, 702, 284, 299, 384, 358, 611, 273, 124, 952, 654, 574, 856, 341, 439, 626, 350, 592, 432, 902, 273, 905, 649, 967, 674, 805, 351, 491, 772, 188, 827, 886, 132, 321, 638, 659, 615, 567, 865, 163, 337, 147, 592, 859, 613, 533, 211, 226, 700, 246, 661, 171, 18, 959, 646, 594, 250, 90, 529, 778, 643, 715, 763, 392, 142, 303, 324]\n"
     ]
    }
   ],
   "source": [
    "import random\n",
    "import pandas as pd\n",
    "import numpy as np\n",
    "randomlist = []\n",
    "for i in range(100):\n",
    "    n = random.randint(10, 1000)\n",
    "    randomlist.append(n)\n",
    "print(randomlist)"
   ]
  },
  {
   "cell_type": "markdown",
   "metadata": {},
   "source": [
    "### ii) Discretize this array into k= 10 bins, such that each bin is of equal width using (delta = xmax - xmin/k);"
   ]
  },
  {
   "cell_type": "code",
   "execution_count": 2,
   "metadata": {},
   "outputs": [],
   "source": [
    "randomlist.sort()\n",
    "df=pd.DataFrame(randomlist,columns=[\"rlist\"])\n",
    "delta=(np.max(randomlist)-np.min(randomlist))/100\n",
    "df['binned'] = pd.cut(x=df['rlist'], bins=[0, delta, delta*2, delta*3, delta*4,delta*5,delta*6,delta*7,delta*8,delta*9,delta*10])"
   ]
  },
  {
   "cell_type": "markdown",
   "metadata": {},
   "source": [
    "### iii) Plot the histogram;"
   ]
  },
  {
   "cell_type": "code",
   "execution_count": 3,
   "metadata": {},
   "outputs": [
    {
     "data": {
      "image/png": "[encoded data removed]",
      "text/plain": [
       "<Figure size 432x288 with 1 Axes>"
      ]
     },
     "metadata": {
      "needs_background": "light"
     },
     "output_type": "display_data"
    }
   ],
   "source": [
    "ax = df.loc[:, 'rlist'].plot.hist(bins=10, alpha=0.5)"
   ]
  },
  {
   "cell_type": "markdown",
   "metadata": {},
   "source": [
    "### iv) Reapet i)-iii) by generating an array of random numbers by normal distribution with (loc=0.0, scale=1.0, size = 100);"
   ]
  },
  {
   "cell_type": "code",
   "execution_count": 4,
   "metadata": {},
   "outputs": [
    {
     "data": {
      "image/png": "[encoded data removed]",
      "text/plain": [
       "<Figure size 432x288 with 1 Axes>"
      ]
     },
     "metadata": {
      "needs_background": "light"
     },
     "output_type": "display_data"
    }
   ],
   "source": [
    "rlist=np.random.normal(loc=0.0, scale=1.0, size=100)\n",
    "rlist.sort()\n",
    "df = pd.DataFrame(rlist, columns=[\"rlist\"])\n",
    "delta = (np.max(rlist) - np.min(rlist)) / 100\n",
    "df['binned'] = pd.cut(x=df['rlist'],\n",
    "                          bins=[0, delta, delta * 2, delta * 3, delta * 4, delta * 5, delta * 6, delta * 7, delta * 8,\n",
    "                                delta * 9, delta * 10])\n",
    "ax = df.loc[:, 'rlist'].plot.hist(bins=10, alpha=0.5)"
   ]
  },
  {
   "cell_type": "markdown",
   "metadata": {},
   "source": [
    "### v) Generate an array of random numbers by lognormal distribution with (mean=2.0, sigma=2.0, size=100) and plot the histogram by setting bins as [0, 1, 2, 5, 10, 20, 30, 40, 50, 60, 70, 80,90, 100]."
   ]
  },
  {
   "cell_type": "code",
   "execution_count": 5,
   "metadata": {},
   "outputs": [
    {
     "data": {
      "image/png": "[encoded data removed]",
      "text/plain": [
       "<Figure size 432x288 with 1 Axes>"
      ]
     },
     "metadata": {
      "needs_background": "light"
     },
     "output_type": "display_data"
    }
   ],
   "source": [
    "rlist = np.random.lognormal(mean=2.0, sigma=2.0, size=100)\n",
    "rlist.sort()\n",
    "df = pd.DataFrame(rlist, columns=[\"rlist\"])\n",
    "delta = (np.max(rlist) - np.min(rlist)) / 100\n",
    "df['binned'] = pd.cut(x=df['rlist'],\n",
    "                          bins=[0, 1, 2, 5, 10, 20, 30, 40, 50, 60, 70, 80,90, 100])\n",
    "# Plot the histogram;\n",
    "ax = df.loc[:, 'rlist'].plot.hist(bins=10, alpha=0.5)"
   ]
  },
  {
   "cell_type": "markdown",
   "metadata": {},
   "source": [
    "**Exercise 4.2**\n",
    "\n",
    "Generate a data frame with 3 columns and 200 rows by selecting randomly selected numers: use for the first column the \"normal\" distribution with (loc=0.0, scale=1.0, size=200) and for the last 2 columns the \"lognormal\" distribution with (mean=0.0, sigma=2.0, size=200) and (mean=1.0, sigma=3.0, size=200).\n",
    "\n",
    "Find any outlier with a z-value > 3 or z-value < -3 and replace that with the mean of the values, eg perform Mean substitution for outliers.\n",
    "\n",
    "Write a report about cells with outliers, thier z-scores and substituted values. \n"
   ]
  },
  {
   "cell_type": "code",
   "execution_count": 6,
   "metadata": {},
   "outputs": [
    {
     "name": "stdout",
     "output_type": "stream",
     "text": [
      "(200, 3)\n",
      "col1      0.111854\n",
      "col2      6.149277\n",
      "col3    150.388708\n",
      "dtype: float64\n",
      "(200, 6)\n"
     ]
    }
   ],
   "source": [
    "col1 = np.random.normal(loc=0.0, scale=1.0, size=200)\n",
    "col2 = np.random.lognormal(mean=0.0,sigma=2.0,size=200)\n",
    "col3 = np.random.lognormal(mean=1.0, sigma=3.0, size=200)\n",
    "data2=np.vstack([col1,col2,col3])\n",
    "data2=data2.transpose()\n",
    "df=pd.DataFrame(data2,columns=['col1','col2','col3'])\n",
    "print(df.shape)\n",
    "print(df.mean())\n",
    "# z=(x-mu)/sigma\n",
    "cols = list(df.columns)\n",
    "for col in cols:\n",
    "    col_zscore = col + '_zscore'\n",
    "    df[col_zscore] = (df[col] - df[col].mean()) / df[col].std(ddof=0)\n",
    "    df[df[col_zscore]>3]=df[col].mean()\n",
    "    df[df[col_zscore] < -3] = df[col].mean()\n",
    "print(df.shape)"
   ]
  },
  {
   "cell_type": "code",
   "execution_count": null,
   "metadata": {},
   "outputs": [],
   "source": []
  },
  {
   "cell_type": "markdown",
   "metadata": {},
   "source": [
    "**Exercise 4.3: PCA**\n",
    "\n",
    "1) Apply PCA to the data - output of **Exercise 4.2** (where all outliers are with substituted values) in order to reduce the dimension from 3 to 2 (use \"PCA(n_components = 2)\". \n",
    "\n",
    "2) Transform your data (3 dimensional) to a new data (2 dimensional) by applying \"pca.transform\", then print the shapes and the first 5 rows of your data and new/transformed data."
   ]
  },
  {
   "cell_type": "code",
   "execution_count": 7,
   "metadata": {},
   "outputs": [
    {
     "name": "stdout",
     "output_type": "stream",
     "text": [
      "(200, 2)\n",
      "   col1_zscore  col2_zscore  col3_zscore\n",
      "0    -1.128679     1.275236    -0.136058\n",
      "1     0.080949    -0.184222    -0.136687\n",
      "2    -0.040858     0.424357    -0.135684\n",
      "3     0.392812     0.028004    -0.132788\n",
      "4    -0.921038    -0.353953    -0.104955\n",
      "          0         1\n",
      "0 -2.687847 -0.672897\n",
      "1 -2.832541 -0.056773\n",
      "2 -2.550675 -0.068032\n",
      "3 -2.527428  0.164650\n",
      "4 -3.491388 -0.744565\n"
     ]
    }
   ],
   "source": [
    "from sklearn.decomposition import PCA\n",
    "cols=df.columns\n",
    "dfn=df[[\"col1_zscore\",\"col2_zscore\",\"col3_zscore\"]]\n",
    "pca = PCA(n_components=2)\n",
    "pca.fit(dfn)\n",
    "ndata=pca.transform(dfn)\n",
    "dft=pd.DataFrame(ndata)\n",
    "print(ndata.shape)\n",
    "print(dfn.head(5))\n",
    "print(dft.head(5))"
   ]
  },
  {
   "cell_type": "code",
   "execution_count": null,
   "metadata": {},
   "outputs": [],
   "source": []
  }
 ],
 "metadata": {
  "kernelspec": {
   "display_name": "Python 3",
   "language": "python",
   "name": "python3"
  },
  "language_info": {
   "codemirror_mode": {
    "name": "ipython",
    "version": 3
   },
   "file_extension": ".py",
   "mimetype": "text/x-python",
   "name": "python",
   "nbconvert_exporter": "python",
   "pygments_lexer": "ipython3",
   "version": "3.6.8"
  }
 },
 "nbformat": 4,
 "nbformat_minor": 2
}
